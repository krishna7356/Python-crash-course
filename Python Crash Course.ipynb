{
 "cells": [
  {
   "cell_type": "markdown",
   "id": "2c473b05",
   "metadata": {},
   "source": [
    "# Hello World!!"
   ]
  },
  {
   "cell_type": "markdown",
   "id": "a4478f8f",
   "metadata": {},
   "source": [
    "Let's print our first message using the print function. The print function prints a message to the screen."
   ]
  },
  {
   "cell_type": "code",
   "execution_count": null,
   "id": "785723d0",
   "metadata": {},
   "outputs": [],
   "source": [
    "print(\"Hello World!!\")"
   ]
  },
  {
   "cell_type": "markdown",
   "id": "6cf0e94a",
   "metadata": {},
   "source": [
    "jupyter note book allow as to print last object with out using print function"
   ]
  },
  {
   "cell_type": "code",
   "execution_count": null,
   "id": "2b12c8a9",
   "metadata": {},
   "outputs": [],
   "source": [
    "\"Hello World!!\""
   ]
  },
  {
   "cell_type": "markdown",
   "id": "61f2a36b",
   "metadata": {},
   "source": [
    "Let's take input from user,using input() function."
   ]
  },
  {
   "cell_type": "code",
   "execution_count": null,
   "id": "22eb1e1a",
   "metadata": {},
   "outputs": [],
   "source": [
    "input(\"Enter the input: \")"
   ]
  },
  {
   "cell_type": "markdown",
   "id": "5bc4b44c",
   "metadata": {},
   "source": [
    "# Data Type"
   ]
  },
  {
   "cell_type": "markdown",
   "id": "2d563021",
   "metadata": {},
   "source": [
    "Every value in Python is an object. An object has different data types. Let's see the most common data type in Python."
   ]
  },
  {
   "cell_type": "markdown",
   "id": "160cc0be",
   "metadata": {},
   "source": [
    "## Integer , Float & Complex"
   ]
  },
  {
   "cell_type": "markdown",
   "id": "3829b808",
   "metadata": {},
   "source": [
    "Integer: int - holds signed integers of non-limited length."
   ]
  },
  {
   "cell_type": "code",
   "execution_count": null,
   "id": "1202a1c7",
   "metadata": {},
   "outputs": [],
   "source": [
    "type(7)"
   ]
  },
  {
   "cell_type": "markdown",
   "id": "b1e6d94a",
   "metadata": {},
   "source": [
    "Float:  holds floating precision numbers and it’s accurate up to 15 decimal places."
   ]
  },
  {
   "cell_type": "code",
   "execution_count": null,
   "id": "5dd340e3",
   "metadata": {},
   "outputs": [],
   "source": [
    "type(5.34)"
   ]
  },
  {
   "cell_type": "markdown",
   "id": "677420ef",
   "metadata": {},
   "source": [
    "complex: holds complex numbers."
   ]
  },
  {
   "cell_type": "code",
   "execution_count": null,
   "id": "91b6d431",
   "metadata": {},
   "outputs": [],
   "source": [
    "type(3+6j)"
   ]
  },
  {
   "cell_type": "markdown",
   "id": "91c80898",
   "metadata": {},
   "source": [
    "## Math Operators"
   ]
  },
  {
   "cell_type": "markdown",
   "id": "4af4650e",
   "metadata": {},
   "source": [
    "Math Operators\n",
    "You can perform math operations in Python. Let's see the most common operators used in Python\n",
    "\n",
    "* Addition: +\n",
    "* Subtraction:-\n",
    "* Multiplication: *\n",
    "* Division: /\n",
    "* Exponent: **\n",
    "* Remainder: %\n",
    "* Integer division: //"
   ]
  },
  {
   "cell_type": "code",
   "execution_count": null,
   "id": "e262fe21",
   "metadata": {},
   "outputs": [],
   "source": [
    "1 +2 # Adding two numbers"
   ]
  },
  {
   "cell_type": "code",
   "execution_count": null,
   "id": "3b5b5506",
   "metadata": {},
   "outputs": [],
   "source": [
    "5-2 # Subtracting two numbers"
   ]
  },
  {
   "cell_type": "code",
   "execution_count": null,
   "id": "18bc0486",
   "metadata": {},
   "outputs": [],
   "source": [
    "5/2 #Division of two numbers"
   ]
  },
  {
   "cell_type": "code",
   "execution_count": null,
   "id": "01b4b826",
   "metadata": {},
   "outputs": [],
   "source": [
    "5 % 2 # Remaninder "
   ]
  },
  {
   "cell_type": "code",
   "execution_count": null,
   "id": "b0021f56",
   "metadata": {},
   "outputs": [],
   "source": [
    "5//2 # Integer Division "
   ]
  },
  {
   "cell_type": "markdown",
   "id": "1b85b991",
   "metadata": {},
   "source": [
    "## Boolean\n",
    "\n",
    "Boolean (bool): True/False values"
   ]
  },
  {
   "cell_type": "code",
   "execution_count": null,
   "id": "61170e11",
   "metadata": {},
   "outputs": [],
   "source": [
    "type(True) "
   ]
  },
  {
   "cell_type": "markdown",
   "id": "a72163a6",
   "metadata": {},
   "source": [
    "## String\n",
    "\n",
    "String (str): A string represents a series of characters. In Python, anything inside quotes (single quotes or double-quotes) is a string"
   ]
  },
  {
   "cell_type": "code",
   "execution_count": null,
   "id": "51de185d",
   "metadata": {},
   "outputs": [],
   "source": [
    "type(\"hello\")\n"
   ]
  },
  {
   "cell_type": "markdown",
   "id": "e18d52e2",
   "metadata": {},
   "source": [
    "## String Methods\n",
    "\n",
    "Python we use methods. A method is a function that \"belongs to\" an object. To call a method we use the \".\" sign after the object .  Let's see some string methods to change the case of text."
   ]
  },
  {
   "cell_type": "code",
   "execution_count": null,
   "id": "5ad0d88c",
   "metadata": {},
   "outputs": [],
   "source": [
    "# change case of text\n",
    "print(\"Learn python\".upper())\n",
    "print(\"Learn python\".lower())\n",
    "print(\"Learn python\".title())\n",
    "\n",
    "# count letters\n",
    "print(\"Learn python\".count('n'))\n",
    "\n",
    "# replace string letters\n",
    "print(\"learn python\".replace('a', 'M'))\n",
    "\n",
    "#Split a string into a list where each word is a list item\n",
    "txt= \"welcome to the crash course\"\n",
    "print(txt.split())"
   ]
  },
  {
   "cell_type": "markdown",
   "id": "e33ce29c",
   "metadata": {},
   "source": [
    "## Variable"
   ]
  },
  {
   "cell_type": "markdown",
   "id": "b71259c2",
   "metadata": {},
   "source": [
    "### Rules for creating variables in Python\n",
    "* A variable name must start with a letter or the underscore character.\n",
    "* A variable name cannot start with a number.\n",
    "* A variable name can only contain alpha-numeric characters and underscores (A-z, 0-9, and _ ).\n",
    "* Variable names are case-sensitive (name, Name and NAME are three different variables).\n",
    "* The reserved words(keywords) cannot be used naming the variable."
   ]
  },
  {
   "cell_type": "code",
   "execution_count": null,
   "id": "8d679f5b",
   "metadata": {},
   "outputs": [],
   "source": [
    "2var=\"varible_check\" # sysntaxError occur because varible name start with number is not valid b"
   ]
  },
  {
   "cell_type": "code",
   "execution_count": null,
   "id": "92119501",
   "metadata": {},
   "outputs": [],
   "source": [
    "-var=\"varible_check\" # sysntaxError occur because varible name start with number is not valid "
   ]
  },
  {
   "cell_type": "code",
   "execution_count": null,
   "id": "b890ac04",
   "metadata": {},
   "outputs": [],
   "source": [
    "var=\"varible_check\" #var is valid varible name\n",
    "_var=\"checking...\"\n",
    "print(var)\n",
    "print(_var)"
   ]
  },
  {
   "cell_type": "markdown",
   "id": "d973fb16",
   "metadata": {},
   "source": [
    "Variables helps us store data values. In Python, we often work with data, so variables are useful to manage this data properly. A variable contains a value, which is the information associated with a variable. To assign a value to a variable, we use the =."
   ]
  },
  {
   "cell_type": "code",
   "execution_count": null,
   "id": "bdfea5c8",
   "metadata": {},
   "outputs": [],
   "source": [
    "message_1 = \"I'am learning python \" # string store in the varible named as message"
   ]
  },
  {
   "cell_type": "code",
   "execution_count": null,
   "id": "4122945f",
   "metadata": {},
   "outputs": [],
   "source": [
    "message_1"
   ]
  },
  {
   "cell_type": "code",
   "execution_count": null,
   "id": "a5ea1d46",
   "metadata": {},
   "outputs": [],
   "source": [
    "# message_2 = \"and it's fun!\"\n",
    "message_2 = \"and it's fun !\""
   ]
  },
  {
   "cell_type": "markdown",
   "id": "78c0ad53",
   "metadata": {},
   "source": [
    "## String Concatenation\n",
    "We can put message_1 and message_2 together by using the + operator. This is called string concatenation."
   ]
  },
  {
   "cell_type": "code",
   "execution_count": null,
   "id": "b90f2f27",
   "metadata": {},
   "outputs": [],
   "source": [
    "message_1 + message_2"
   ]
  },
  {
   "cell_type": "markdown",
   "id": "f055282c",
   "metadata": {},
   "source": [
    "We can also use another option called f-string. Let's have a look"
   ]
  },
  {
   "cell_type": "code",
   "execution_count": null,
   "id": "71da6817",
   "metadata": {
    "scrolled": true
   },
   "outputs": [],
   "source": [
    "f'{message_1}{message_2}'"
   ]
  },
  {
   "cell_type": "markdown",
   "id": "7bf8970a",
   "metadata": {},
   "source": [
    "### Conditions and If statements"
   ]
  },
  {
   "cell_type": "markdown",
   "id": "918cbade",
   "metadata": {},
   "source": [
    "* Equals: a == b\n",
    "* Not Equals: a != b\n",
    "* Less than: a < b\n",
    "* Less than or equal to: a <= b\n",
    "* Greater than: a > b\n",
    "* Greater than or equal to: a >= b\n",
    "we can use these conditions in 'if statements'  and loops "
   ]
  },
  {
   "cell_type": "code",
   "execution_count": null,
   "id": "7dc7fb7c",
   "metadata": {},
   "outputs": [],
   "source": [
    "num1 = 33\n",
    "num2 = 200\n",
    "if num2 > num1:\n",
    "  print(f\"{num2} is greater than a\")"
   ]
  },
  {
   "cell_type": "code",
   "execution_count": null,
   "id": "e79b6a98",
   "metadata": {},
   "outputs": [],
   "source": [
    "num1 = 200\n",
    "num2 = 33\n",
    "if num2 > num1:\n",
    "  print(f\"{num2} is greater than a\")\n",
    "elif num1 == num2:\n",
    "  print(f\"{num1} and {num2} are equal\")\n",
    "else:\n",
    "  print(f\"{num1} is greater than b\")"
   ]
  },
  {
   "cell_type": "markdown",
   "id": "e9e17f15",
   "metadata": {},
   "source": [
    "## Loop"
   ]
  },
  {
   "cell_type": "markdown",
   "id": "a6a4829d",
   "metadata": {},
   "source": [
    "loops to handle looping requirements.\n",
    "*  while loop\n",
    "* for loop"
   ]
  },
  {
   "cell_type": "markdown",
   "id": "a371b351",
   "metadata": {},
   "source": [
    "#### While loop\n",
    "a while loop is used to execute a block of statements repeatedly until a given condition is satisfied. And when the condition becomes false, the line immediately after the loop in the program is executed."
   ]
  },
  {
   "cell_type": "code",
   "execution_count": null,
   "id": "a82281cf",
   "metadata": {},
   "outputs": [],
   "source": [
    "# while loop\n",
    "count = 0\n",
    "while (count < 3):   # while condition :\n",
    "    count = count + 1        #statement\n",
    "    print(\"while loop\",count)"
   ]
  },
  {
   "cell_type": "code",
   "execution_count": null,
   "id": "a553968d",
   "metadata": {},
   "outputs": [],
   "source": [
    "# combining else with while\n",
    "count = 0\n",
    "while (count < 3):        # while condition:  \n",
    "\tcount = count + 1           # execute these statements\n",
    "\tprint(\"Hello Python\")\n",
    "else:                       #else:\n",
    "\tprint(\"In Else Block\")       # execute these statements\n"
   ]
  },
  {
   "cell_type": "markdown",
   "id": "d5db830d",
   "metadata": {},
   "source": [
    "#### For loop\n",
    "For loops are used for sequential traversal. For example: traversing a list or string or array etc. "
   ]
  },
  {
   "cell_type": "code",
   "execution_count": null,
   "id": "a3f3ed29",
   "metadata": {},
   "outputs": [],
   "source": [
    "# Iterating over range 0 to n-1\n",
    " \n",
    "n = 4\n",
    "for i in range(0, n):  #for iterator_var in sequence:\n",
    "    print(i)                #statement for execution"
   ]
  },
  {
   "cell_type": "code",
   "execution_count": null,
   "id": "74fc19b3",
   "metadata": {},
   "outputs": [],
   "source": [
    "for letter in 'learningpython':\n",
    "    if letter == 'e' or letter == 'n':\n",
    "        continue                      # skip below code, when the condition True\n",
    "    print('Current Letter :', letter)"
   ]
  },
  {
   "cell_type": "code",
   "execution_count": null,
   "id": "710b421b",
   "metadata": {},
   "outputs": [],
   "source": [
    "for letter in 'learningpython':\n",
    "    if letter == 'n' or letter == 'p':\n",
    "        break                         # above condition become true entire loop will stop/break\n",
    "    print('Current Letter :', letter)"
   ]
  },
  {
   "cell_type": "code",
   "execution_count": null,
   "id": "0ed636dd",
   "metadata": {},
   "outputs": [],
   "source": []
  }
 ],
 "metadata": {
  "kernelspec": {
   "display_name": "Python 3",
   "language": "python",
   "name": "python3"
  },
  "language_info": {
   "codemirror_mode": {
    "name": "ipython",
    "version": 3
   },
   "file_extension": ".py",
   "mimetype": "text/x-python",
   "name": "python",
   "nbconvert_exporter": "python",
   "pygments_lexer": "ipython3",
   "version": "3.10.5"
  },
  "vscode": {
   "interpreter": {
    "hash": "22a49e0ee0814321ded3ac19aada82c3cd011c5600f00e71fb0640a2a9279083"
   }
  }
 },
 "nbformat": 4,
 "nbformat_minor": 5
}
