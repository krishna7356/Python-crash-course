{
 "cells": [
  {
   "cell_type": "markdown",
   "id": "2c473b05",
   "metadata": {},
   "source": [
    "# Hello World!!"
   ]
  },
  {
   "cell_type": "markdown",
   "id": "a4478f8f",
   "metadata": {},
   "source": [
    "Let's print our first message using the print function. The print function prints a message to the screen."
   ]
  },
  {
   "cell_type": "code",
   "execution_count": 1,
   "id": "785723d0",
   "metadata": {},
   "outputs": [
    {
     "name": "stdout",
     "output_type": "stream",
     "text": [
      "Hello World!!\n"
     ]
    }
   ],
   "source": [
    "print(\"Hello World!!\")"
   ]
  },
  {
   "cell_type": "markdown",
   "id": "6cf0e94a",
   "metadata": {},
   "source": [
    "jupyter note book allow as to print last object with out using print functio "
   ]
  },
  {
   "cell_type": "code",
   "execution_count": 2,
   "id": "2b12c8a9",
   "metadata": {},
   "outputs": [
    {
     "data": {
      "text/plain": [
       "'Hello World!!'"
      ]
     },
     "execution_count": 2,
     "metadata": {},
     "output_type": "execute_result"
    }
   ],
   "source": [
    "\"Hello World!!\""
   ]
  },
  {
   "cell_type": "markdown",
   "id": "5bc4b44c",
   "metadata": {},
   "source": [
    "# Data Type"
   ]
  },
  {
   "cell_type": "markdown",
   "id": "2d563021",
   "metadata": {},
   "source": [
    "Every value in Python is an object. An object has different data types. Let's see the most common data type in Python."
   ]
  },
  {
   "cell_type": "markdown",
   "id": "160cc0be",
   "metadata": {},
   "source": [
    "## Integer , Float & Complex"
   ]
  },
  {
   "cell_type": "markdown",
   "id": "3829b808",
   "metadata": {},
   "source": [
    "Integer: int - holds signed integers of non-limited length."
   ]
  },
  {
   "cell_type": "code",
   "execution_count": 4,
   "id": "1202a1c7",
   "metadata": {},
   "outputs": [
    {
     "data": {
      "text/plain": [
       "int"
      ]
     },
     "execution_count": 4,
     "metadata": {},
     "output_type": "execute_result"
    }
   ],
   "source": [
    "type(7)"
   ]
  },
  {
   "cell_type": "markdown",
   "id": "b1e6d94a",
   "metadata": {},
   "source": [
    "Float:  holds floating precision numbers and it’s accurate up to 15 decimal places."
   ]
  },
  {
   "cell_type": "code",
   "execution_count": 5,
   "id": "5dd340e3",
   "metadata": {},
   "outputs": [
    {
     "data": {
      "text/plain": [
       "float"
      ]
     },
     "execution_count": 5,
     "metadata": {},
     "output_type": "execute_result"
    }
   ],
   "source": [
    "type(5.34)"
   ]
  },
  {
   "cell_type": "markdown",
   "id": "677420ef",
   "metadata": {},
   "source": [
    "complex: holds complex numbers."
   ]
  },
  {
   "cell_type": "code",
   "execution_count": 6,
   "id": "91b6d431",
   "metadata": {},
   "outputs": [
    {
     "data": {
      "text/plain": [
       "complex"
      ]
     },
     "execution_count": 6,
     "metadata": {},
     "output_type": "execute_result"
    }
   ],
   "source": [
    "type(3+6j)"
   ]
  },
  {
   "cell_type": "markdown",
   "id": "91c80898",
   "metadata": {},
   "source": [
    "## Math Operators"
   ]
  },
  {
   "cell_type": "markdown",
   "id": "4af4650e",
   "metadata": {},
   "source": [
    "Math Operators\n",
    "You can perform math operations in Python. Let's see the most common operators used in Python\n",
    "\n",
    "* Addition: +\n",
    "* Subtraction:-\n",
    "* Multiplication: *\n",
    "* Division: /\n",
    "* Exponent: **\n",
    "* Remainder: %\n",
    "* Integer division: //"
   ]
  },
  {
   "cell_type": "code",
   "execution_count": null,
   "id": "e262fe21",
   "metadata": {},
   "outputs": [],
   "source": [
    "1 +2 # Adding two numbers"
   ]
  },
  {
   "cell_type": "code",
   "execution_count": 11,
   "id": "3b5b5506",
   "metadata": {},
   "outputs": [
    {
     "data": {
      "text/plain": [
       "20"
      ]
     },
     "execution_count": 11,
     "metadata": {},
     "output_type": "execute_result"
    }
   ],
   "source": [
    "5-2 # Subtracting two numbers"
   ]
  },
  {
   "cell_type": "code",
   "execution_count": 12,
   "id": "18bc0486",
   "metadata": {},
   "outputs": [
    {
     "data": {
      "text/plain": [
       "2.5"
      ]
     },
     "execution_count": 12,
     "metadata": {},
     "output_type": "execute_result"
    }
   ],
   "source": [
    "5/2 #Division of two numbers"
   ]
  },
  {
   "cell_type": "code",
   "execution_count": 13,
   "id": "01b4b826",
   "metadata": {},
   "outputs": [
    {
     "data": {
      "text/plain": [
       "1"
      ]
     },
     "execution_count": 13,
     "metadata": {},
     "output_type": "execute_result"
    }
   ],
   "source": [
    "5 % 2 # Remaninder "
   ]
  },
  {
   "cell_type": "code",
   "execution_count": 14,
   "id": "b0021f56",
   "metadata": {},
   "outputs": [
    {
     "data": {
      "text/plain": [
       "2"
      ]
     },
     "execution_count": 14,
     "metadata": {},
     "output_type": "execute_result"
    }
   ],
   "source": [
    "5//2 # Integer Division "
   ]
  },
  {
   "cell_type": "markdown",
   "id": "1b85b991",
   "metadata": {},
   "source": [
    "## Boolean\n",
    "\n",
    "Boolean (bool): True/False values"
   ]
  },
  {
   "cell_type": "code",
   "execution_count": 15,
   "id": "61170e11",
   "metadata": {},
   "outputs": [
    {
     "data": {
      "text/plain": [
       "bool"
      ]
     },
     "execution_count": 15,
     "metadata": {},
     "output_type": "execute_result"
    }
   ],
   "source": [
    "type(True) "
   ]
  },
  {
   "cell_type": "markdown",
   "id": "a72163a6",
   "metadata": {},
   "source": [
    "## String\n",
    "\n",
    "String (str): A string represents a series of characters. In Python, anything inside quotes (single quotes or double-quotes) is a string"
   ]
  },
  {
   "cell_type": "code",
   "execution_count": 16,
   "id": "51de185d",
   "metadata": {},
   "outputs": [
    {
     "data": {
      "text/plain": [
       "str"
      ]
     },
     "execution_count": 16,
     "metadata": {},
     "output_type": "execute_result"
    }
   ],
   "source": [
    "type(\"hello\")\n"
   ]
  },
  {
   "cell_type": "markdown",
   "id": "e18d52e2",
   "metadata": {},
   "source": [
    "## String Methods\n",
    "\n",
    "Python we use methods. A method is a function that \"belongs to\" an object. To call a method we use the \".\" sign after the object .  Let's see some string methods to change the case of text."
   ]
  },
  {
   "cell_type": "code",
   "execution_count": 5,
   "id": "5ad0d88c",
   "metadata": {},
   "outputs": [
    {
     "name": "stdout",
     "output_type": "stream",
     "text": [
      "LEARN PYTHON\n",
      "learn python\n",
      "Learn Python\n",
      "2\n",
      "leMrn python\n",
      "['welcome ', 'to the ', 'crash course']\n"
     ]
    }
   ],
   "source": [
    "# change case of text\n",
    "print(\"Learn python\".upper())\n",
    "print(\"Learn python\".lower())\n",
    "print(\"Learn python\".title())\n",
    "\n",
    "# count letters\n",
    "print(\"Learn python\".count('n'))\n",
    "\n",
    "# replace string letters\n",
    "print(\"learn python\".replace('a', 'M'))\n",
    "\n",
    "#Split a string into a list where each word is a list item\n",
    "txt= \"welcome to the crash course\"\n",
    "print(txt.split())"
   ]
  },
  {
   "cell_type": "markdown",
   "id": "e33ce29c",
   "metadata": {},
   "source": [
    "## Variable"
   ]
  },
  {
   "cell_type": "markdown",
   "id": "b71259c2",
   "metadata": {},
   "source": [
    "### Rules for creating variables in Python\n",
    "* A variable name must start with a letter or the underscore character.\n",
    "* A variable name cannot start with a number.\n",
    "* A variable name can only contain alpha-numeric characters and underscores (A-z, 0-9, and _ ).\n",
    "* Variable names are case-sensitive (name, Name and NAME are three different variables).\n",
    "* The reserved words(keywords) cannot be used naming the variable."
   ]
  },
  {
   "cell_type": "code",
   "execution_count": 12,
   "id": "8d679f5b",
   "metadata": {},
   "outputs": [
    {
     "ename": "SyntaxError",
     "evalue": "invalid decimal literal (1914820384.py, line 1)",
     "output_type": "error",
     "traceback": [
      "\u001b[1;36m  Input \u001b[1;32mIn [12]\u001b[1;36m\u001b[0m\n\u001b[1;33m    2ba=\"varible_check\" # sysntaxError occur because varible name start with number is not valid\u001b[0m\n\u001b[1;37m    ^\u001b[0m\n\u001b[1;31mSyntaxError\u001b[0m\u001b[1;31m:\u001b[0m invalid decimal literal\n"
     ]
    }
   ],
   "source": [
    "2var=\"varible_check\" # sysntaxError occur because varible name start with number is not valid b"
   ]
  },
  {
   "cell_type": "code",
   "execution_count": 16,
   "id": "92119501",
   "metadata": {},
   "outputs": [
    {
     "ename": "SyntaxError",
     "evalue": "cannot assign to expression here. Maybe you meant '==' instead of '='? (1155000298.py, line 1)",
     "output_type": "error",
     "traceback": [
      "\u001b[1;36m  Input \u001b[1;32mIn [16]\u001b[1;36m\u001b[0m\n\u001b[1;33m    -var=\"varible_check\" # sysntaxError occur because varible name start with number is not valid\u001b[0m\n\u001b[1;37m    ^\u001b[0m\n\u001b[1;31mSyntaxError\u001b[0m\u001b[1;31m:\u001b[0m cannot assign to expression here. Maybe you meant '==' instead of '='?\n"
     ]
    }
   ],
   "source": [
    "-var=\"varible_check\" # sysntaxError occur because varible name start with number is not valid "
   ]
  },
  {
   "cell_type": "code",
   "execution_count": 15,
   "id": "b890ac04",
   "metadata": {},
   "outputs": [
    {
     "name": "stdout",
     "output_type": "stream",
     "text": [
      "varible_check\n",
      "checking...\n"
     ]
    }
   ],
   "source": [
    "var=\"varible_check\" #var is valid varible name\n",
    "_var=\"checking...\"\n",
    "print(var)\n",
    "print(_var)"
   ]
  },
  {
   "cell_type": "markdown",
   "id": "d973fb16",
   "metadata": {},
   "source": [
    "Variables helps us store data values. In Python, we often work with data, so variables are useful to manage this data properly. A variable contains a value, which is the information associated with a variable. To assign a value to a variable, we use the =."
   ]
  },
  {
   "cell_type": "code",
   "execution_count": 18,
   "id": "bdfea5c8",
   "metadata": {},
   "outputs": [],
   "source": [
    "message_1 = \"I'am learning python \" # string store in the varible named as message"
   ]
  },
  {
   "cell_type": "code",
   "execution_count": 19,
   "id": "4122945f",
   "metadata": {},
   "outputs": [
    {
     "data": {
      "text/plain": [
       "\"I'am learning python \""
      ]
     },
     "execution_count": 19,
     "metadata": {},
     "output_type": "execute_result"
    }
   ],
   "source": [
    "message_1"
   ]
  },
  {
   "cell_type": "code",
   "execution_count": 20,
   "id": "a5ea1d46",
   "metadata": {},
   "outputs": [],
   "source": [
    "# message_2 = \"and it's fun!\"\n",
    "message_2 = \"and it's fun !\""
   ]
  },
  {
   "cell_type": "markdown",
   "id": "78c0ad53",
   "metadata": {},
   "source": [
    "## String Concatenation\n",
    "We can put message_1 and message_2 together by using the + operator. This is called string concatenation."
   ]
  },
  {
   "cell_type": "code",
   "execution_count": 21,
   "id": "b90f2f27",
   "metadata": {},
   "outputs": [
    {
     "data": {
      "text/plain": [
       "\"I'am learning python and it's fun !\""
      ]
     },
     "execution_count": 21,
     "metadata": {},
     "output_type": "execute_result"
    }
   ],
   "source": [
    "message_1 + message_2"
   ]
  },
  {
   "cell_type": "markdown",
   "id": "f055282c",
   "metadata": {},
   "source": [
    "We can also use another option called f-string. Let's have a look"
   ]
  },
  {
   "cell_type": "code",
   "execution_count": 23,
   "id": "71da6817",
   "metadata": {
    "scrolled": true
   },
   "outputs": [
    {
     "data": {
      "text/plain": [
       "\"I'am learning python and it's fun !\""
      ]
     },
     "execution_count": 23,
     "metadata": {},
     "output_type": "execute_result"
    }
   ],
   "source": [
    "f'{message_1}{message_2}'"
   ]
  }
 ],
 "metadata": {
  "kernelspec": {
   "display_name": "Python 3 (ipykernel)",
   "language": "python",
   "name": "python3"
  },
  "language_info": {
   "codemirror_mode": {
    "name": "ipython",
    "version": 3
   },
   "file_extension": ".py",
   "mimetype": "text/x-python",
   "name": "python",
   "nbconvert_exporter": "python",
   "pygments_lexer": "ipython3",
   "version": "3.10.5"
  }
 },
 "nbformat": 4,
 "nbformat_minor": 5
}
